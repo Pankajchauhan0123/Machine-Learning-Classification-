{
 "cells": [
  {
   "cell_type": "code",
   "execution_count": 1,
   "id": "49b382af",
   "metadata": {},
   "outputs": [],
   "source": [
    "# Import BasicsLibraries\n",
    "import numpy as np\n",
    "import pandas as pd\n",
    "import matplotlib.pyplot as plt\n",
    "import seaborn as sb\n",
    "import warnings\n",
    "warnings.filterwarnings('ignore')"
   ]
  },
  {
   "cell_type": "code",
   "execution_count": 2,
   "id": "1146f3cf",
   "metadata": {},
   "outputs": [],
   "source": [
    "#Load Dataset of Heart.csv \n",
    "df=pd.read_csv('heart.csv')"
   ]
  },
  {
   "cell_type": "code",
   "execution_count": 3,
   "id": "eac9de7c",
   "metadata": {},
   "outputs": [
    {
     "data": {
      "text/html": [
       "<div>\n",
       "<style scoped>\n",
       "    .dataframe tbody tr th:only-of-type {\n",
       "        vertical-align: middle;\n",
       "    }\n",
       "\n",
       "    .dataframe tbody tr th {\n",
       "        vertical-align: top;\n",
       "    }\n",
       "\n",
       "    .dataframe thead th {\n",
       "        text-align: right;\n",
       "    }\n",
       "</style>\n",
       "<table border=\"1\" class=\"dataframe\">\n",
       "  <thead>\n",
       "    <tr style=\"text-align: right;\">\n",
       "      <th></th>\n",
       "      <th>age</th>\n",
       "      <th>sex</th>\n",
       "      <th>cp</th>\n",
       "      <th>trestbps</th>\n",
       "      <th>chol</th>\n",
       "      <th>fbs</th>\n",
       "      <th>restecg</th>\n",
       "      <th>thalach</th>\n",
       "      <th>exang</th>\n",
       "      <th>oldpeak</th>\n",
       "      <th>slope</th>\n",
       "      <th>ca</th>\n",
       "      <th>thal</th>\n",
       "      <th>target</th>\n",
       "    </tr>\n",
       "  </thead>\n",
       "  <tbody>\n",
       "    <tr>\n",
       "      <th>0</th>\n",
       "      <td>63</td>\n",
       "      <td>1</td>\n",
       "      <td>3</td>\n",
       "      <td>145</td>\n",
       "      <td>233</td>\n",
       "      <td>1</td>\n",
       "      <td>0</td>\n",
       "      <td>150</td>\n",
       "      <td>0</td>\n",
       "      <td>2.3</td>\n",
       "      <td>0</td>\n",
       "      <td>0</td>\n",
       "      <td>1</td>\n",
       "      <td>1</td>\n",
       "    </tr>\n",
       "    <tr>\n",
       "      <th>1</th>\n",
       "      <td>37</td>\n",
       "      <td>1</td>\n",
       "      <td>2</td>\n",
       "      <td>130</td>\n",
       "      <td>250</td>\n",
       "      <td>0</td>\n",
       "      <td>1</td>\n",
       "      <td>187</td>\n",
       "      <td>0</td>\n",
       "      <td>3.5</td>\n",
       "      <td>0</td>\n",
       "      <td>0</td>\n",
       "      <td>2</td>\n",
       "      <td>1</td>\n",
       "    </tr>\n",
       "    <tr>\n",
       "      <th>2</th>\n",
       "      <td>41</td>\n",
       "      <td>0</td>\n",
       "      <td>1</td>\n",
       "      <td>130</td>\n",
       "      <td>204</td>\n",
       "      <td>0</td>\n",
       "      <td>0</td>\n",
       "      <td>172</td>\n",
       "      <td>0</td>\n",
       "      <td>1.4</td>\n",
       "      <td>2</td>\n",
       "      <td>0</td>\n",
       "      <td>2</td>\n",
       "      <td>1</td>\n",
       "    </tr>\n",
       "    <tr>\n",
       "      <th>3</th>\n",
       "      <td>56</td>\n",
       "      <td>1</td>\n",
       "      <td>1</td>\n",
       "      <td>120</td>\n",
       "      <td>236</td>\n",
       "      <td>0</td>\n",
       "      <td>1</td>\n",
       "      <td>178</td>\n",
       "      <td>0</td>\n",
       "      <td>0.8</td>\n",
       "      <td>2</td>\n",
       "      <td>0</td>\n",
       "      <td>2</td>\n",
       "      <td>1</td>\n",
       "    </tr>\n",
       "    <tr>\n",
       "      <th>4</th>\n",
       "      <td>57</td>\n",
       "      <td>0</td>\n",
       "      <td>0</td>\n",
       "      <td>120</td>\n",
       "      <td>354</td>\n",
       "      <td>0</td>\n",
       "      <td>1</td>\n",
       "      <td>163</td>\n",
       "      <td>1</td>\n",
       "      <td>0.6</td>\n",
       "      <td>2</td>\n",
       "      <td>0</td>\n",
       "      <td>2</td>\n",
       "      <td>1</td>\n",
       "    </tr>\n",
       "  </tbody>\n",
       "</table>\n",
       "</div>"
      ],
      "text/plain": [
       "   age  sex  cp  trestbps  chol  fbs  restecg  thalach  exang  oldpeak  slope  \\\n",
       "0   63    1   3       145   233    1        0      150      0      2.3      0   \n",
       "1   37    1   2       130   250    0        1      187      0      3.5      0   \n",
       "2   41    0   1       130   204    0        0      172      0      1.4      2   \n",
       "3   56    1   1       120   236    0        1      178      0      0.8      2   \n",
       "4   57    0   0       120   354    0        1      163      1      0.6      2   \n",
       "\n",
       "   ca  thal  target  \n",
       "0   0     1       1  \n",
       "1   0     2       1  \n",
       "2   0     2       1  \n",
       "3   0     2       1  \n",
       "4   0     2       1  "
      ]
     },
     "execution_count": 3,
     "metadata": {},
     "output_type": "execute_result"
    }
   ],
   "source": [
    "#Check 5 records from dataset\n",
    "df.head()"
   ]
  },
  {
   "cell_type": "code",
   "execution_count": 71,
   "id": "2ece9d6b",
   "metadata": {},
   "outputs": [
    {
     "data": {
      "text/plain": [
       "array([0, 2, 1], dtype=int64)"
      ]
     },
     "execution_count": 71,
     "metadata": {},
     "output_type": "execute_result"
    }
   ],
   "source": [
    "df['slope'].unique()"
   ]
  },
  {
   "cell_type": "code",
   "execution_count": 4,
   "id": "84a4ac7d",
   "metadata": {},
   "outputs": [
    {
     "data": {
      "text/plain": [
       "(303, 14)"
      ]
     },
     "execution_count": 4,
     "metadata": {},
     "output_type": "execute_result"
    }
   ],
   "source": [
    "#Check no of columns and rows in dataset\n",
    "df.shape"
   ]
  },
  {
   "cell_type": "code",
   "execution_count": 5,
   "id": "d2ef3036",
   "metadata": {},
   "outputs": [
    {
     "data": {
      "text/plain": [
       "age         0\n",
       "sex         0\n",
       "cp          0\n",
       "trestbps    0\n",
       "chol        0\n",
       "fbs         0\n",
       "restecg     0\n",
       "thalach     0\n",
       "exang       0\n",
       "oldpeak     0\n",
       "slope       0\n",
       "ca          0\n",
       "thal        0\n",
       "target      0\n",
       "dtype: int64"
      ]
     },
     "execution_count": 5,
     "metadata": {},
     "output_type": "execute_result"
    }
   ],
   "source": [
    "#Check for Null values in each columns\n",
    "df.isnull().sum()"
   ]
  },
  {
   "cell_type": "code",
   "execution_count": 6,
   "id": "48dbb343",
   "metadata": {},
   "outputs": [
    {
     "data": {
      "text/plain": [
       "age           int64\n",
       "sex           int64\n",
       "cp            int64\n",
       "trestbps      int64\n",
       "chol          int64\n",
       "fbs           int64\n",
       "restecg       int64\n",
       "thalach       int64\n",
       "exang         int64\n",
       "oldpeak     float64\n",
       "slope         int64\n",
       "ca            int64\n",
       "thal          int64\n",
       "target        int64\n",
       "dtype: object"
      ]
     },
     "execution_count": 6,
     "metadata": {},
     "output_type": "execute_result"
    }
   ],
   "source": [
    "#Here no null values observed so we will cross check for null values through datatypes \n",
    "#as observed through dataset that each columns type\n",
    "df.dtypes"
   ]
  },
  {
   "cell_type": "code",
   "execution_count": 7,
   "id": "4c7f8b21",
   "metadata": {},
   "outputs": [
    {
     "data": {
      "text/plain": [
       "1"
      ]
     },
     "execution_count": 7,
     "metadata": {},
     "output_type": "execute_result"
    }
   ],
   "source": [
    "#Now Check the Duplicated Values in Dataset(Rows)\n",
    "df.duplicated().sum()"
   ]
  },
  {
   "cell_type": "code",
   "execution_count": 8,
   "id": "489881a0",
   "metadata": {},
   "outputs": [
    {
     "data": {
      "text/html": [
       "<div>\n",
       "<style scoped>\n",
       "    .dataframe tbody tr th:only-of-type {\n",
       "        vertical-align: middle;\n",
       "    }\n",
       "\n",
       "    .dataframe tbody tr th {\n",
       "        vertical-align: top;\n",
       "    }\n",
       "\n",
       "    .dataframe thead th {\n",
       "        text-align: right;\n",
       "    }\n",
       "</style>\n",
       "<table border=\"1\" class=\"dataframe\">\n",
       "  <thead>\n",
       "    <tr style=\"text-align: right;\">\n",
       "      <th></th>\n",
       "      <th>age</th>\n",
       "      <th>sex</th>\n",
       "      <th>cp</th>\n",
       "      <th>trestbps</th>\n",
       "      <th>chol</th>\n",
       "      <th>fbs</th>\n",
       "      <th>restecg</th>\n",
       "      <th>thalach</th>\n",
       "      <th>exang</th>\n",
       "      <th>oldpeak</th>\n",
       "      <th>slope</th>\n",
       "      <th>ca</th>\n",
       "      <th>thal</th>\n",
       "      <th>target</th>\n",
       "    </tr>\n",
       "  </thead>\n",
       "  <tbody>\n",
       "    <tr>\n",
       "      <th>164</th>\n",
       "      <td>38</td>\n",
       "      <td>1</td>\n",
       "      <td>2</td>\n",
       "      <td>138</td>\n",
       "      <td>175</td>\n",
       "      <td>0</td>\n",
       "      <td>1</td>\n",
       "      <td>173</td>\n",
       "      <td>0</td>\n",
       "      <td>0.0</td>\n",
       "      <td>2</td>\n",
       "      <td>4</td>\n",
       "      <td>2</td>\n",
       "      <td>1</td>\n",
       "    </tr>\n",
       "  </tbody>\n",
       "</table>\n",
       "</div>"
      ],
      "text/plain": [
       "     age  sex  cp  trestbps  chol  fbs  restecg  thalach  exang  oldpeak  \\\n",
       "164   38    1   2       138   175    0        1      173      0      0.0   \n",
       "\n",
       "     slope  ca  thal  target  \n",
       "164      2   4     2       1  "
      ]
     },
     "execution_count": 8,
     "metadata": {},
     "output_type": "execute_result"
    }
   ],
   "source": [
    "#Here One duplicate Values observed now we will check which row has duplicate value\n",
    "\n",
    "#Find The row which is duplicated:-\n",
    "df[df.duplicated()]"
   ]
  },
  {
   "cell_type": "code",
   "execution_count": 9,
   "id": "1599ea6c",
   "metadata": {},
   "outputs": [],
   "source": [
    "#Here Row no 164 has duplicate values now we will drop the duplicate values from dataset permantently\n",
    "df.drop_duplicates(inplace=True)"
   ]
  },
  {
   "cell_type": "code",
   "execution_count": 10,
   "id": "5c75a453",
   "metadata": {},
   "outputs": [
    {
     "data": {
      "text/plain": [
       "0"
      ]
     },
     "execution_count": 10,
     "metadata": {},
     "output_type": "execute_result"
    }
   ],
   "source": [
    "#Now Again cross check the duplicate values\n",
    "df.duplicated().sum()"
   ]
  },
  {
   "cell_type": "code",
   "execution_count": 11,
   "id": "516a2896",
   "metadata": {},
   "outputs": [
    {
     "data": {
      "text/plain": [
       "(302, 14)"
      ]
     },
     "execution_count": 11,
     "metadata": {},
     "output_type": "execute_result"
    }
   ],
   "source": [
    "#Check rows and columns again\n",
    "df.shape"
   ]
  },
  {
   "cell_type": "code",
   "execution_count": 12,
   "id": "1fb33e9f",
   "metadata": {},
   "outputs": [
    {
     "data": {
      "image/png": "[encoded data removed]",
      "text/plain": [
       "<Figure size 432x288 with 2 Axes>"
      ]
     },
     "metadata": {
      "needs_background": "light"
     },
     "output_type": "display_data"
    }
   ],
   "source": [
    "#Check null values with visualisation through Heatmap\n",
    "sb.heatmap(df.isnull())\n",
    "plt.show()\n",
    "\n",
    "\n",
    "#No null values observed through heatmap"
   ]
  },
  {
   "cell_type": "code",
   "execution_count": 13,
   "id": "ed780d77",
   "metadata": {},
   "outputs": [
    {
     "data": {
      "text/plain": [
       "1    164\n",
       "0    138\n",
       "Name: target, dtype: int64"
      ]
     },
     "execution_count": 13,
     "metadata": {},
     "output_type": "execute_result"
    }
   ],
   "source": [
    "#Now check data is Balanced or Unbalanced\n",
    "df['target'].value_counts()"
   ]
  },
  {
   "cell_type": "code",
   "execution_count": 14,
   "id": "21648f71",
   "metadata": {},
   "outputs": [
    {
     "data": {
      "image/png": "[encoded data removed]",
      "text/plain": [
       "<Figure size 432x288 with 1 Axes>"
      ]
     },
     "metadata": {
      "needs_background": "light"
     },
     "output_type": "display_data"
    }
   ],
   "source": [
    "#Check Data is Balanced or Unbalanced through Countplot\n",
    "sb.countplot(data=df,x='target')\n",
    "a=df['target'].value_counts()\n",
    "plt.yticks((a))\n",
    "plt.show()"
   ]
  },
  {
   "cell_type": "code",
   "execution_count": 15,
   "id": "f2b9d354",
   "metadata": {},
   "outputs": [],
   "source": [
    "#Here we can see that data is Balanced"
   ]
  },
  {
   "cell_type": "code",
   "execution_count": 16,
   "id": "21c59aa3",
   "metadata": {},
   "outputs": [],
   "source": [
    "#Now select Inputs and Output and assign them to variables\n",
    "X=df.drop('target',axis=1)        # 'X' as input\n",
    "Y=df['target']                    # 'Y' as output"
   ]
  },
  {
   "cell_type": "code",
   "execution_count": 17,
   "id": "ae258d28",
   "metadata": {},
   "outputs": [
    {
     "data": {
      "text/html": [
       "<div>\n",
       "<style scoped>\n",
       "    .dataframe tbody tr th:only-of-type {\n",
       "        vertical-align: middle;\n",
       "    }\n",
       "\n",
       "    .dataframe tbody tr th {\n",
       "        vertical-align: top;\n",
       "    }\n",
       "\n",
       "    .dataframe thead th {\n",
       "        text-align: right;\n",
       "    }\n",
       "</style>\n",
       "<table border=\"1\" class=\"dataframe\">\n",
       "  <thead>\n",
       "    <tr style=\"text-align: right;\">\n",
       "      <th></th>\n",
       "      <th>age</th>\n",
       "      <th>sex</th>\n",
       "      <th>cp</th>\n",
       "      <th>trestbps</th>\n",
       "      <th>chol</th>\n",
       "      <th>fbs</th>\n",
       "      <th>restecg</th>\n",
       "      <th>thalach</th>\n",
       "      <th>exang</th>\n",
       "      <th>oldpeak</th>\n",
       "      <th>slope</th>\n",
       "      <th>ca</th>\n",
       "      <th>thal</th>\n",
       "    </tr>\n",
       "  </thead>\n",
       "  <tbody>\n",
       "    <tr>\n",
       "      <th>0</th>\n",
       "      <td>63</td>\n",
       "      <td>1</td>\n",
       "      <td>3</td>\n",
       "      <td>145</td>\n",
       "      <td>233</td>\n",
       "      <td>1</td>\n",
       "      <td>0</td>\n",
       "      <td>150</td>\n",
       "      <td>0</td>\n",
       "      <td>2.3</td>\n",
       "      <td>0</td>\n",
       "      <td>0</td>\n",
       "      <td>1</td>\n",
       "    </tr>\n",
       "    <tr>\n",
       "      <th>1</th>\n",
       "      <td>37</td>\n",
       "      <td>1</td>\n",
       "      <td>2</td>\n",
       "      <td>130</td>\n",
       "      <td>250</td>\n",
       "      <td>0</td>\n",
       "      <td>1</td>\n",
       "      <td>187</td>\n",
       "      <td>0</td>\n",
       "      <td>3.5</td>\n",
       "      <td>0</td>\n",
       "      <td>0</td>\n",
       "      <td>2</td>\n",
       "    </tr>\n",
       "    <tr>\n",
       "      <th>2</th>\n",
       "      <td>41</td>\n",
       "      <td>0</td>\n",
       "      <td>1</td>\n",
       "      <td>130</td>\n",
       "      <td>204</td>\n",
       "      <td>0</td>\n",
       "      <td>0</td>\n",
       "      <td>172</td>\n",
       "      <td>0</td>\n",
       "      <td>1.4</td>\n",
       "      <td>2</td>\n",
       "      <td>0</td>\n",
       "      <td>2</td>\n",
       "    </tr>\n",
       "    <tr>\n",
       "      <th>3</th>\n",
       "      <td>56</td>\n",
       "      <td>1</td>\n",
       "      <td>1</td>\n",
       "      <td>120</td>\n",
       "      <td>236</td>\n",
       "      <td>0</td>\n",
       "      <td>1</td>\n",
       "      <td>178</td>\n",
       "      <td>0</td>\n",
       "      <td>0.8</td>\n",
       "      <td>2</td>\n",
       "      <td>0</td>\n",
       "      <td>2</td>\n",
       "    </tr>\n",
       "    <tr>\n",
       "      <th>4</th>\n",
       "      <td>57</td>\n",
       "      <td>0</td>\n",
       "      <td>0</td>\n",
       "      <td>120</td>\n",
       "      <td>354</td>\n",
       "      <td>0</td>\n",
       "      <td>1</td>\n",
       "      <td>163</td>\n",
       "      <td>1</td>\n",
       "      <td>0.6</td>\n",
       "      <td>2</td>\n",
       "      <td>0</td>\n",
       "      <td>2</td>\n",
       "    </tr>\n",
       "    <tr>\n",
       "      <th>...</th>\n",
       "      <td>...</td>\n",
       "      <td>...</td>\n",
       "      <td>...</td>\n",
       "      <td>...</td>\n",
       "      <td>...</td>\n",
       "      <td>...</td>\n",
       "      <td>...</td>\n",
       "      <td>...</td>\n",
       "      <td>...</td>\n",
       "      <td>...</td>\n",
       "      <td>...</td>\n",
       "      <td>...</td>\n",
       "      <td>...</td>\n",
       "    </tr>\n",
       "    <tr>\n",
       "      <th>298</th>\n",
       "      <td>57</td>\n",
       "      <td>0</td>\n",
       "      <td>0</td>\n",
       "      <td>140</td>\n",
       "      <td>241</td>\n",
       "      <td>0</td>\n",
       "      <td>1</td>\n",
       "      <td>123</td>\n",
       "      <td>1</td>\n",
       "      <td>0.2</td>\n",
       "      <td>1</td>\n",
       "      <td>0</td>\n",
       "      <td>3</td>\n",
       "    </tr>\n",
       "    <tr>\n",
       "      <th>299</th>\n",
       "      <td>45</td>\n",
       "      <td>1</td>\n",
       "      <td>3</td>\n",
       "      <td>110</td>\n",
       "      <td>264</td>\n",
       "      <td>0</td>\n",
       "      <td>1</td>\n",
       "      <td>132</td>\n",
       "      <td>0</td>\n",
       "      <td>1.2</td>\n",
       "      <td>1</td>\n",
       "      <td>0</td>\n",
       "      <td>3</td>\n",
       "    </tr>\n",
       "    <tr>\n",
       "      <th>300</th>\n",
       "      <td>68</td>\n",
       "      <td>1</td>\n",
       "      <td>0</td>\n",
       "      <td>144</td>\n",
       "      <td>193</td>\n",
       "      <td>1</td>\n",
       "      <td>1</td>\n",
       "      <td>141</td>\n",
       "      <td>0</td>\n",
       "      <td>3.4</td>\n",
       "      <td>1</td>\n",
       "      <td>2</td>\n",
       "      <td>3</td>\n",
       "    </tr>\n",
       "    <tr>\n",
       "      <th>301</th>\n",
       "      <td>57</td>\n",
       "      <td>1</td>\n",
       "      <td>0</td>\n",
       "      <td>130</td>\n",
       "      <td>131</td>\n",
       "      <td>0</td>\n",
       "      <td>1</td>\n",
       "      <td>115</td>\n",
       "      <td>1</td>\n",
       "      <td>1.2</td>\n",
       "      <td>1</td>\n",
       "      <td>1</td>\n",
       "      <td>3</td>\n",
       "    </tr>\n",
       "    <tr>\n",
       "      <th>302</th>\n",
       "      <td>57</td>\n",
       "      <td>0</td>\n",
       "      <td>1</td>\n",
       "      <td>130</td>\n",
       "      <td>236</td>\n",
       "      <td>0</td>\n",
       "      <td>0</td>\n",
       "      <td>174</td>\n",
       "      <td>0</td>\n",
       "      <td>0.0</td>\n",
       "      <td>1</td>\n",
       "      <td>1</td>\n",
       "      <td>2</td>\n",
       "    </tr>\n",
       "  </tbody>\n",
       "</table>\n",
       "<p>302 rows × 13 columns</p>\n",
       "</div>"
      ],
      "text/plain": [
       "     age  sex  cp  trestbps  chol  fbs  restecg  thalach  exang  oldpeak  \\\n",
       "0     63    1   3       145   233    1        0      150      0      2.3   \n",
       "1     37    1   2       130   250    0        1      187      0      3.5   \n",
       "2     41    0   1       130   204    0        0      172      0      1.4   \n",
       "3     56    1   1       120   236    0        1      178      0      0.8   \n",
       "4     57    0   0       120   354    0        1      163      1      0.6   \n",
       "..   ...  ...  ..       ...   ...  ...      ...      ...    ...      ...   \n",
       "298   57    0   0       140   241    0        1      123      1      0.2   \n",
       "299   45    1   3       110   264    0        1      132      0      1.2   \n",
       "300   68    1   0       144   193    1        1      141      0      3.4   \n",
       "301   57    1   0       130   131    0        1      115      1      1.2   \n",
       "302   57    0   1       130   236    0        0      174      0      0.0   \n",
       "\n",
       "     slope  ca  thal  \n",
       "0        0   0     1  \n",
       "1        0   0     2  \n",
       "2        2   0     2  \n",
       "3        2   0     2  \n",
       "4        2   0     2  \n",
       "..     ...  ..   ...  \n",
       "298      1   0     3  \n",
       "299      1   0     3  \n",
       "300      1   2     3  \n",
       "301      1   1     3  \n",
       "302      1   1     2  \n",
       "\n",
       "[302 rows x 13 columns]"
      ]
     },
     "execution_count": 17,
     "metadata": {},
     "output_type": "execute_result"
    }
   ],
   "source": [
    "#Check Input Columns \n",
    "X"
   ]
  },
  {
   "cell_type": "code",
   "execution_count": 18,
   "id": "73f0b2e3",
   "metadata": {},
   "outputs": [],
   "source": [
    "#Here we can see that Dataset is balanced so we split dataset into 70 and 30 ratio for \n",
    "#Train and Test"
   ]
  },
  {
   "cell_type": "code",
   "execution_count": 19,
   "id": "cf9e2441",
   "metadata": {},
   "outputs": [],
   "source": [
    "#For That we call class for train_test_split\n",
    "from sklearn.model_selection import train_test_split"
   ]
  },
  {
   "cell_type": "code",
   "execution_count": 20,
   "id": "c5627cf9",
   "metadata": {},
   "outputs": [],
   "source": [
    "#Here we train data on 70%  and Test data on 30%\n",
    "X_train,X_test,Y_train,Y_test=train_test_split(X,Y,test_size=0.3,random_state=1)"
   ]
  },
  {
   "cell_type": "code",
   "execution_count": 21,
   "id": "e5a3c594",
   "metadata": {},
   "outputs": [
    {
     "data": {
      "text/plain": [
       "((211, 13), (211,))"
      ]
     },
     "execution_count": 21,
     "metadata": {},
     "output_type": "execute_result"
    }
   ],
   "source": [
    "#Check the No.of data in X_train and Y_train\n",
    "X_train.shape,Y_train.shape"
   ]
  },
  {
   "cell_type": "code",
   "execution_count": 22,
   "id": "ff9fa250",
   "metadata": {},
   "outputs": [],
   "source": [
    "#Apply StandardScaler() on Input(X) by calling its class\n",
    "from sklearn.preprocessing import StandardScaler"
   ]
  },
  {
   "cell_type": "code",
   "execution_count": 23,
   "id": "99f6d4a2",
   "metadata": {},
   "outputs": [],
   "source": [
    "#Call class by creating its object\n",
    "ss=StandardScaler()"
   ]
  },
  {
   "cell_type": "code",
   "execution_count": 24,
   "id": "d8b803a3",
   "metadata": {},
   "outputs": [],
   "source": [
    "#Apply standardscaler on Training and Testing data\n",
    "X_train=ss.fit_transform(X_train)\n",
    "X_test=ss.transform(X_test)"
   ]
  },
  {
   "cell_type": "code",
   "execution_count": 25,
   "id": "030d985f",
   "metadata": {},
   "outputs": [
    {
     "data": {
      "text/plain": [
       "array([[-1.06167727, -1.55023411,  1.02938967, ..., -0.69616283,\n",
       "         0.27995117, -0.51005185],\n",
       "       [ 0.43317242,  0.64506386, -0.92737808, ...,  0.95429062,\n",
       "        -0.72123014,  1.12056846],\n",
       "       [ 0.43317242, -1.55023411, -0.92737808, ..., -0.69616283,\n",
       "         1.28113248, -2.14067216],\n",
       "       ...,\n",
       "       [-2.66330193,  0.64506386,  0.05100579, ...,  0.95429062,\n",
       "        -0.72123014, -0.51005185],\n",
       "       [ 0.43317242,  0.64506386, -0.92737808, ...,  0.95429062,\n",
       "         1.28113248,  1.12056846],\n",
       "       [ 0.00607251,  0.64506386,  1.02938967, ...,  0.95429062,\n",
       "        -0.72123014,  1.12056846]])"
      ]
     },
     "execution_count": 25,
     "metadata": {},
     "output_type": "execute_result"
    }
   ],
   "source": [
    "#Cross check the standardscaling been done\n",
    "X_train"
   ]
  },
  {
   "cell_type": "markdown",
   "id": "5c63811f",
   "metadata": {},
   "source": [
    "# LogisticRegression"
   ]
  },
  {
   "cell_type": "code",
   "execution_count": 26,
   "id": "fd525d9a",
   "metadata": {},
   "outputs": [],
   "source": [
    "#Now We will Train the model and give our dataset to LogisticRegression\n",
    "#So We will call the class of logisticRegression by creating its object\n",
    "from sklearn.linear_model import LogisticRegression"
   ]
  },
  {
   "cell_type": "code",
   "execution_count": 27,
   "id": "042c3b6e",
   "metadata": {},
   "outputs": [],
   "source": [
    "#Create an Function for calling of All data's like 70 training and 30% testing\n",
    "#Classification Reports and Confusion Matrix\n",
    "\n",
    "def create_model(model):\n",
    "    \n",
    "    #Train the Model with 70%\n",
    "    model.fit(X_train,Y_train)\n",
    "    \n",
    "    #Test the Model with 30 data\n",
    "    Y_pred=model.predict(X_test)\n",
    "    \n",
    "    #Now Generate Classification Reports and Confusion Matrix\n",
    "    print(classification_report(Y_test,Y_pred))\n",
    "    print(confusion_matrix(Y_test,Y_pred))\n",
    "    \n",
    "    return model    "
   ]
  },
  {
   "cell_type": "code",
   "execution_count": 28,
   "id": "cd16cb0c",
   "metadata": {},
   "outputs": [],
   "source": [
    "#call Class of report generation and confusion matrix\n",
    "from sklearn.metrics import classification_report,confusion_matrix"
   ]
  },
  {
   "cell_type": "code",
   "execution_count": 29,
   "id": "696062e5",
   "metadata": {},
   "outputs": [],
   "source": [
    "#create object of call lr\n",
    "lr=LogisticRegression()"
   ]
  },
  {
   "cell_type": "code",
   "execution_count": 30,
   "id": "52bed5d3",
   "metadata": {},
   "outputs": [
    {
     "name": "stdout",
     "output_type": "stream",
     "text": [
      "              precision    recall  f1-score   support\n",
      "\n",
      "           0       0.77      0.79      0.78        38\n",
      "           1       0.85      0.83      0.84        53\n",
      "\n",
      "    accuracy                           0.81        91\n",
      "   macro avg       0.81      0.81      0.81        91\n",
      "weighted avg       0.81      0.81      0.81        91\n",
      "\n",
      "[[30  8]\n",
      " [ 9 44]]\n"
     ]
    }
   ],
   "source": [
    "lr=create_model(lr)"
   ]
  },
  {
   "cell_type": "code",
   "execution_count": 31,
   "id": "bb1e8a2e",
   "metadata": {},
   "outputs": [
    {
     "data": {
      "text/plain": [
       "'\\nFrom Logistic Regression model after training and testing we have got accuracy of 83% which is good \\nbut now we will give this  data to Decisiontree and then will check accuracy\\n'"
      ]
     },
     "execution_count": 31,
     "metadata": {},
     "output_type": "execute_result"
    }
   ],
   "source": [
    "'''\n",
    "From Logistic Regression model after training and testing we have got accuracy of 83% which is good \n",
    "but now we will give this  data to Decisiontree and then will check accuracy\n",
    "'''"
   ]
  },
  {
   "cell_type": "markdown",
   "id": "c7e611fc",
   "metadata": {},
   "source": [
    "# DecisionTree"
   ]
  },
  {
   "cell_type": "code",
   "execution_count": 32,
   "id": "9f20a0fa",
   "metadata": {},
   "outputs": [],
   "source": [
    "#DecisionTree helps too find out which features(inputs) is good to find the better accuracy with out"
   ]
  },
  {
   "cell_type": "code",
   "execution_count": 33,
   "id": "cdc635a6",
   "metadata": {},
   "outputs": [],
   "source": [
    "#Now call class of DecisiontreeClassifier\n",
    "from sklearn.tree import DecisionTreeClassifier"
   ]
  },
  {
   "cell_type": "code",
   "execution_count": 34,
   "id": "de381590",
   "metadata": {},
   "outputs": [],
   "source": [
    "#Create object for DecisionTreeClassifier()\n",
    "dtc=DecisionTreeClassifier()"
   ]
  },
  {
   "cell_type": "code",
   "execution_count": 35,
   "id": "e194a5f2",
   "metadata": {},
   "outputs": [
    {
     "name": "stdout",
     "output_type": "stream",
     "text": [
      "              precision    recall  f1-score   support\n",
      "\n",
      "           0       0.63      0.76      0.69        38\n",
      "           1       0.80      0.68      0.73        53\n",
      "\n",
      "    accuracy                           0.71        91\n",
      "   macro avg       0.72      0.72      0.71        91\n",
      "weighted avg       0.73      0.71      0.72        91\n",
      "\n",
      "[[29  9]\n",
      " [17 36]]\n"
     ]
    }
   ],
   "source": [
    "#Now Test the model with 30% and Train with 70%\n",
    "#We have already created the fuunction for testing and training\n",
    "dtc=create_model(dtc)"
   ]
  },
  {
   "cell_type": "markdown",
   "id": "cc537292",
   "metadata": {},
   "source": [
    "# Max_depth with Gini Index(Pruning Technique)"
   ]
  },
  {
   "cell_type": "code",
   "execution_count": 36,
   "id": "3aa950b8",
   "metadata": {},
   "outputs": [],
   "source": [
    "#Here from Decisiontree we have got less accuracy with respect too logsticregression \n",
    "#Now we will apply Pruning Techique on DecisionTree model(Gini index)"
   ]
  },
  {
   "cell_type": "code",
   "execution_count": 37,
   "id": "544f184e",
   "metadata": {},
   "outputs": [
    {
     "name": "stdout",
     "output_type": "stream",
     "text": [
      "              precision    recall  f1-score   support\n",
      "\n",
      "           0       0.68      0.68      0.68        38\n",
      "           1       0.77      0.77      0.77        53\n",
      "\n",
      "    accuracy                           0.74        91\n",
      "   macro avg       0.73      0.73      0.73        91\n",
      "weighted avg       0.74      0.74      0.74        91\n",
      "\n",
      "[[26 12]\n",
      " [12 41]]\n"
     ]
    },
    {
     "data": {
      "text/plain": [
       "\"for i in range(1,9,1):\\n    dtc1=DecisionTreeClassifier(max_depth=i,random_state=1)\\n    print('Max_Depth',i)\\n    dtc1=create_model(dtc1)\""
      ]
     },
     "execution_count": 37,
     "metadata": {},
     "output_type": "execute_result"
    }
   ],
   "source": [
    "#Apply pruning technique : max_depth<=8 not more than 8\n",
    "#Create object of DecisionTreeClassifier class and pass Parameter\n",
    "\n",
    "dtc1=DecisionTreeClassifier(max_depth=3,random_state=1)\n",
    "dtc1=create_model(dtc1)\n",
    "\n",
    "#We will apply for loop technique for finding out on which the score is good and after that we will comment the for loop\n",
    "'''for i in range(1,9,1):\n",
    "    dtc1=DecisionTreeClassifier(max_depth=i,random_state=1)\n",
    "    print('Max_Depth',i)\n",
    "    dtc1=create_model(dtc1)'''\n",
    "\n",
    "#Here after apply of for loop technique we found that max_depth has good score so on main code we will insert max_depth=3"
   ]
  },
  {
   "cell_type": "markdown",
   "id": "fa8d9223",
   "metadata": {},
   "source": [
    "# Min_samples_leaf with Gini Index(Pruning Technique)"
   ]
  },
  {
   "cell_type": "code",
   "execution_count": 38,
   "id": "d7de9df7",
   "metadata": {
    "scrolled": false
   },
   "outputs": [
    {
     "name": "stdout",
     "output_type": "stream",
     "text": [
      "              precision    recall  f1-score   support\n",
      "\n",
      "           0       0.63      0.68      0.66        38\n",
      "           1       0.76      0.72      0.74        53\n",
      "\n",
      "    accuracy                           0.70        91\n",
      "   macro avg       0.70      0.70      0.70        91\n",
      "weighted avg       0.71      0.70      0.70        91\n",
      "\n",
      "[[26 12]\n",
      " [15 38]]\n"
     ]
    }
   ],
   "source": [
    "#Now we will apply the Next Pruning Techique min_samples_leaf\n",
    "#We will apply for loop technique for finding out on which the score is good and after that we will comment the for loop\n",
    "'''\n",
    "for i in range(44,101,1):\n",
    "    dtc2=DecisionTreeClassifier(min_samples_leaf=i)\n",
    "    print('Min Samples Leaf',i)\n",
    "    dtc2=create_model(dtc2)\n",
    "'''\n",
    "#After For loop Technique we found that on Min_samples_leaf=44 the score is good so we will comment for loop technique and \n",
    "#and insert value 44 to main line comment\n",
    "dtc2=DecisionTreeClassifier(random_state=1,min_samples_leaf=45)\n",
    "dtc2=create_model(dtc2)"
   ]
  },
  {
   "cell_type": "markdown",
   "id": "cd5f2593",
   "metadata": {},
   "source": [
    "# Max_depth with Entropy(Pruning Technique)"
   ]
  },
  {
   "cell_type": "code",
   "execution_count": 39,
   "id": "e11ed3d6",
   "metadata": {},
   "outputs": [
    {
     "name": "stdout",
     "output_type": "stream",
     "text": [
      "              precision    recall  f1-score   support\n",
      "\n",
      "           0       0.63      0.68      0.66        38\n",
      "           1       0.76      0.72      0.74        53\n",
      "\n",
      "    accuracy                           0.70        91\n",
      "   macro avg       0.70      0.70      0.70        91\n",
      "weighted avg       0.71      0.70      0.70        91\n",
      "\n",
      "[[26 12]\n",
      " [15 38]]\n"
     ]
    },
    {
     "data": {
      "text/plain": [
       "\"\\nfor i in range(1,9,1):\\n    dtc3=DecisionTreeClassifier(max_depth=i,criterion='entropy')\\n    print('Max_Depth',i)\\n    dtc3=create_model(dtc3)\\n\""
      ]
     },
     "execution_count": 39,
     "metadata": {},
     "output_type": "execute_result"
    }
   ],
   "source": [
    "#Apply pruning technique : max_depth<=8 not more than 8\n",
    "#Create object of DecisionTreeClassifier class and pass Parameter\n",
    "\n",
    "dtc1=DecisionTreeClassifier(max_depth=1,criterion='entropy')\n",
    "dtc1=create_model(dtc1)\n",
    "\n",
    "#We will apply for loop technique for finding out on which the score is good and after that we will comment the for loop\n",
    "'''\n",
    "for i in range(1,9,1):\n",
    "    dtc3=DecisionTreeClassifier(max_depth=i,criterion='entropy')\n",
    "    print('Max_Depth',i)\n",
    "    dtc3=create_model(dtc3)\n",
    "'''\n",
    "\n",
    "#Here after apply of for loop technique we found that max_depth has good score so on main code we will insert max_depth=3"
   ]
  },
  {
   "cell_type": "markdown",
   "id": "3eb07567",
   "metadata": {},
   "source": [
    "# Min_samples_Leaf with Entropy (Pruning Technique)"
   ]
  },
  {
   "cell_type": "code",
   "execution_count": 40,
   "id": "136198eb",
   "metadata": {
    "scrolled": false
   },
   "outputs": [
    {
     "name": "stdout",
     "output_type": "stream",
     "text": [
      "              precision    recall  f1-score   support\n",
      "\n",
      "           0       0.63      0.68      0.66        38\n",
      "           1       0.76      0.72      0.74        53\n",
      "\n",
      "    accuracy                           0.70        91\n",
      "   macro avg       0.70      0.70      0.70        91\n",
      "weighted avg       0.71      0.70      0.70        91\n",
      "\n",
      "[[26 12]\n",
      " [15 38]]\n"
     ]
    }
   ],
   "source": [
    "#Now we will apply the Next Pruning Techique min_samples_leaf\n",
    "#We will apply for loop technique for finding out on which the score is good and after that we will comment the for loop\n",
    "\n",
    "'''\n",
    "for i in range(44,101,1):\n",
    "    dtc2=DecisionTreeClassifier(min_samples_leaf=i,criterion='entropy')\n",
    "    print('Min Samples Leaf',i)\n",
    "    dtc2=create_model(dtc2)\n",
    "   \n",
    "'''\n",
    "#After For loop Technique we found that on Min_samples_leaf=44 the score is good so we will comment for loop technique and \n",
    "#and insert value 44 to main line comment\n",
    "dtc2=DecisionTreeClassifier(random_state=1,min_samples_leaf=44,criterion='entropy')\n",
    "dtc2=create_model(dtc2)"
   ]
  },
  {
   "cell_type": "code",
   "execution_count": 41,
   "id": "6571244d",
   "metadata": {},
   "outputs": [],
   "source": [
    "#Here after Providing data to Pruning technique we have not got the good accuracy now we will give this dataset to \n",
    "#ensemblin tecnique"
   ]
  },
  {
   "cell_type": "markdown",
   "id": "5f8bbfaf",
   "metadata": {},
   "source": [
    "# Ensembling Technique"
   ]
  },
  {
   "cell_type": "code",
   "execution_count": 67,
   "id": "ec8f96dc",
   "metadata": {
    "scrolled": false
   },
   "outputs": [
    {
     "name": "stdout",
     "output_type": "stream",
     "text": [
      "              precision    recall  f1-score   support\n",
      "\n",
      "           0       0.64      0.79      0.71        38\n",
      "           1       0.82      0.68      0.74        53\n",
      "\n",
      "    accuracy                           0.73        91\n",
      "   macro avg       0.73      0.73      0.72        91\n",
      "weighted avg       0.74      0.73      0.73        91\n",
      "\n",
      "[[30  8]\n",
      " [17 36]]\n"
     ]
    }
   ],
   "source": [
    "#Applying ensembling technique with RandomForest(It is Bootstamping method) with bagging \n",
    "from sklearn.ensemble import RandomForestClassifier\n",
    "rfc=RandomForestClassifier()\n",
    "\n",
    "#Apply Looping  concept for finding n_estimators\n",
    "\n",
    "'''for i in range(13,1,-1):\n",
    "    rfc=RandomForestClassifier(n_estimators=10,max_features=i,random_state=1)\n",
    "    print('No.of Features',i)\n",
    "    \n",
    "    #call Function\n",
    "    rfc=create_model(rfc)'''\n",
    "    \n",
    "\n",
    "\n",
    "rfc=RandomForestClassifier(n_estimators=10,max_features=11,random_state=1)\n",
    "rfc=create_model(rfc)"
   ]
  },
  {
   "cell_type": "code",
   "execution_count": 68,
   "id": "adde9b01",
   "metadata": {
    "scrolled": false
   },
   "outputs": [
    {
     "name": "stdout",
     "output_type": "stream",
     "text": [
      "              precision    recall  f1-score   support\n",
      "\n",
      "           0       0.65      0.82      0.72        38\n",
      "           1       0.84      0.68      0.75        53\n",
      "\n",
      "    accuracy                           0.74        91\n",
      "   macro avg       0.74      0.75      0.74        91\n",
      "weighted avg       0.76      0.74      0.74        91\n",
      "\n",
      "[[31  7]\n",
      " [17 36]]\n"
     ]
    }
   ],
   "source": [
    "#Use Entropy\n",
    "\n",
    "'''for i in range(13,1,-1):\n",
    "    rfc=RandomForestClassifier(n_estimators=10,max_features=i,random_state=1,criterion='entropy')\n",
    "    print('No.of Features',i)\n",
    "    \n",
    "    #call Function\n",
    "    rfc=create_model(rfc)'''\n",
    "    \n",
    "    \n",
    "rfc=RandomForestClassifier(n_estimators=10,max_features=7,random_state=1,criterion='entropy')\n",
    "rfc=create_model(rfc)"
   ]
  },
  {
   "cell_type": "markdown",
   "id": "0dc61d6a",
   "metadata": {},
   "source": [
    "# ADA Boosting(Boosting Technique)"
   ]
  },
  {
   "cell_type": "code",
   "execution_count": 44,
   "id": "cfcd02ce",
   "metadata": {},
   "outputs": [],
   "source": [
    "#Call class of AdaBoostClassifier class :\n",
    "from sklearn.ensemble import AdaBoostClassifier"
   ]
  },
  {
   "cell_type": "code",
   "execution_count": 45,
   "id": "4666cdf0",
   "metadata": {
    "scrolled": false
   },
   "outputs": [
    {
     "name": "stdout",
     "output_type": "stream",
     "text": [
      "              precision    recall  f1-score   support\n",
      "\n",
      "           0       0.73      0.71      0.72        38\n",
      "           1       0.80      0.81      0.80        53\n",
      "\n",
      "    accuracy                           0.77        91\n",
      "   macro avg       0.76      0.76      0.76        91\n",
      "weighted avg       0.77      0.77      0.77        91\n",
      "\n",
      "[[27 11]\n",
      " [10 43]]\n"
     ]
    },
    {
     "data": {
      "text/plain": [
       "\"\\nfor i in range(1,17):\\n    abc=AdaBoostClassifier(n_estimators=i,random_state=1)\\n    print('No.of DecisionStump',i)\\n    #Call function\\n    abc=create_model(abc)\\n    \\n\""
      ]
     },
     "execution_count": 45,
     "metadata": {},
     "output_type": "execute_result"
    }
   ],
   "source": [
    "#Create object for AdaBoostClassifier class()\n",
    "abc=AdaBoostClassifier(n_estimators=6,random_state=1)\n",
    "abc=create_model(abc)\n",
    "\n",
    "\n",
    "'''\n",
    "for i in range(1,17):\n",
    "    abc=AdaBoostClassifier(n_estimators=i,random_state=1)\n",
    "    print('No.of DecisionStump',i)\n",
    "    #Call function\n",
    "    abc=create_model(abc)\n",
    "    \n",
    "'''\n",
    "\n",
    "#Here After looping Technique in ADA Boost we found total n_estimators=6"
   ]
  },
  {
   "cell_type": "markdown",
   "id": "975815c6",
   "metadata": {},
   "source": [
    "# Gradient boosting"
   ]
  },
  {
   "cell_type": "code",
   "execution_count": 46,
   "id": "7e5d7c7d",
   "metadata": {},
   "outputs": [],
   "source": [
    "#Call Class of GradientBoosting on same dataset\n",
    "from sklearn.ensemble import GradientBoostingClassifier"
   ]
  },
  {
   "cell_type": "code",
   "execution_count": 47,
   "id": "6364fdc8",
   "metadata": {
    "scrolled": false
   },
   "outputs": [
    {
     "name": "stdout",
     "output_type": "stream",
     "text": [
      "              precision    recall  f1-score   support\n",
      "\n",
      "           0       0.74      0.74      0.74        38\n",
      "           1       0.81      0.81      0.81        53\n",
      "\n",
      "    accuracy                           0.78        91\n",
      "   macro avg       0.77      0.77      0.77        91\n",
      "weighted avg       0.78      0.78      0.78        91\n",
      "\n",
      "[[28 10]\n",
      " [10 43]]\n"
     ]
    },
    {
     "data": {
      "text/plain": [
       "\"\\nfor i in range(10,101,1):\\n    gbc=GradientBoostingClassifier(n_estimators=i,random_state=1)\\n    print('No. of Estimators',i)\\n    gbc=create_model(gbc)\\n    \\n\""
      ]
     },
     "execution_count": 47,
     "metadata": {},
     "output_type": "execute_result"
    }
   ],
   "source": [
    "#Call function wih class\n",
    "gbc=GradientBoostingClassifier(n_estimators=11,random_state=1)\n",
    "gbc=create_model(gbc)\n",
    "\n",
    "'''\n",
    "for i in range(10,101,1):\n",
    "    gbc=GradientBoostingClassifier(n_estimators=i,random_state=1)\n",
    "    print('No. of Estimators',i)\n",
    "    gbc=create_model(gbc)\n",
    "    \n",
    "'''\n",
    "    \n",
    "#Here After looping Technique in GradientBoosting we found total n_estimators=11"
   ]
  },
  {
   "cell_type": "markdown",
   "id": "f04c8f3a",
   "metadata": {},
   "source": [
    "# XGB extreme gradient Boosting"
   ]
  },
  {
   "cell_type": "code",
   "execution_count": 48,
   "id": "21d506a7",
   "metadata": {},
   "outputs": [],
   "source": [
    "#Install Packae of XGB Boosting \n",
    "#!pip install xgboost"
   ]
  },
  {
   "cell_type": "code",
   "execution_count": 49,
   "id": "782283fb",
   "metadata": {},
   "outputs": [],
   "source": [
    "#Call function\n",
    "from xgboost import XGBClassifier"
   ]
  },
  {
   "cell_type": "code",
   "execution_count": 50,
   "id": "b988a4af",
   "metadata": {
    "scrolled": false
   },
   "outputs": [
    {
     "name": "stdout",
     "output_type": "stream",
     "text": [
      "              precision    recall  f1-score   support\n",
      "\n",
      "           0       0.70      0.74      0.72        38\n",
      "           1       0.80      0.77      0.79        53\n",
      "\n",
      "    accuracy                           0.76        91\n",
      "   macro avg       0.75      0.76      0.75        91\n",
      "weighted avg       0.76      0.76      0.76        91\n",
      "\n",
      "[[28 10]\n",
      " [12 41]]\n"
     ]
    },
    {
     "data": {
      "text/plain": [
       "\"\\nfor i in range(10,101,1):\\n    xgb=XGBClassifier(n_estimators=i,reg_alpha=1,random_state=1)\\n    print('No. of Estimators',i)\\n    xgb=create_model(xgb)\\n    \\n\""
      ]
     },
     "execution_count": 50,
     "metadata": {},
     "output_type": "execute_result"
    }
   ],
   "source": [
    "#Create object of XGBClassifier()\n",
    "#Call function wih class\n",
    "xgb=XGBClassifier(n_estimators=18,reg_alpha=1,random_state=1)\n",
    "xgb=create_model(xgb)\n",
    "\n",
    "\n",
    "'''\n",
    "for i in range(10,101,1):\n",
    "    xgb=XGBClassifier(n_estimators=i,reg_alpha=1,random_state=1)\n",
    "    print('No. of Estimators',i)\n",
    "    xgb=create_model(xgb)\n",
    "    \n",
    "'''\n",
    "\n",
    "\n",
    "#Here After looping Technique in GradientBoosting we found total n_estimators=18"
   ]
  },
  {
   "cell_type": "markdown",
   "id": "12f3fa49",
   "metadata": {},
   "source": [
    "# Support Vector Machine (SVM)"
   ]
  },
  {
   "cell_type": "code",
   "execution_count": 51,
   "id": "a0cc35df",
   "metadata": {},
   "outputs": [
    {
     "name": "stdout",
     "output_type": "stream",
     "text": [
      "              precision    recall  f1-score   support\n",
      "\n",
      "           0       0.76      0.76      0.76        38\n",
      "           1       0.83      0.83      0.83        53\n",
      "\n",
      "    accuracy                           0.80        91\n",
      "   macro avg       0.80      0.80      0.80        91\n",
      "weighted avg       0.80      0.80      0.80        91\n",
      "\n",
      "[[29  9]\n",
      " [ 9 44]]\n"
     ]
    }
   ],
   "source": [
    "#LinearSVC means LinearSupport Classifier\n",
    "from sklearn.svm import LinearSVC   \n",
    "\n",
    "#Create object for svm\n",
    "svc=LinearSVC(random_state=1)\n",
    "\n",
    "#call function for LinearSVC\n",
    "svc=create_model(svc)\n"
   ]
  },
  {
   "cell_type": "code",
   "execution_count": 52,
   "id": "2c6a731a",
   "metadata": {},
   "outputs": [
    {
     "name": "stdout",
     "output_type": "stream",
     "text": [
      "              precision    recall  f1-score   support\n",
      "\n",
      "           0       0.79      0.71      0.75        38\n",
      "           1       0.81      0.87      0.84        53\n",
      "\n",
      "    accuracy                           0.80        91\n",
      "   macro avg       0.80      0.79      0.79        91\n",
      "weighted avg       0.80      0.80      0.80        91\n",
      "\n",
      "[[27 11]\n",
      " [ 7 46]]\n"
     ]
    }
   ],
   "source": [
    "#Create object of LinearSVC class and some external error\n",
    "svc1=LinearSVC(random_state=1,C=0.01)\n",
    "\n",
    "\n",
    "\n",
    "#Here C denotes adding of error to data set \n",
    "#The rnage of adding of data start from 0.001 to 1\n",
    "\n",
    "#Call function\n",
    "svc1=create_model(svc1)"
   ]
  },
  {
   "cell_type": "markdown",
   "id": "295259c9",
   "metadata": {},
   "source": [
    "# Polynomial support vector classifier"
   ]
  },
  {
   "cell_type": "code",
   "execution_count": 53,
   "id": "b01b6445",
   "metadata": {},
   "outputs": [],
   "source": [
    "#Use polynomial kernel function use inbuilt class svc (support vector classisfier)\n",
    "from sklearn.svm import SVC\n",
    "\n",
    "#SVC used for polynomial and Radial basis both are used for non-linear data"
   ]
  },
  {
   "cell_type": "code",
   "execution_count": 54,
   "id": "b73e31eb",
   "metadata": {},
   "outputs": [
    {
     "name": "stdout",
     "output_type": "stream",
     "text": [
      "              precision    recall  f1-score   support\n",
      "\n",
      "           0       0.81      0.76      0.78        38\n",
      "           1       0.84      0.87      0.85        53\n",
      "\n",
      "    accuracy                           0.82        91\n",
      "   macro avg       0.82      0.82      0.82        91\n",
      "weighted avg       0.82      0.82      0.82        91\n",
      "\n",
      "[[29  9]\n",
      " [ 7 46]]\n"
     ]
    }
   ],
   "source": [
    "#create object for svc\n",
    "svc2=SVC(random_state=1,kernel='poly')\n",
    "             \n",
    "#Call Function\n",
    "svc2=create_model(svc2)"
   ]
  },
  {
   "cell_type": "markdown",
   "id": "22c2ccaf",
   "metadata": {},
   "source": [
    "# Radial Support vector classifier"
   ]
  },
  {
   "cell_type": "code",
   "execution_count": 55,
   "id": "fc0b0be7",
   "metadata": {},
   "outputs": [
    {
     "name": "stdout",
     "output_type": "stream",
     "text": [
      "              precision    recall  f1-score   support\n",
      "\n",
      "           0       0.72      0.74      0.73        38\n",
      "           1       0.81      0.79      0.80        53\n",
      "\n",
      "    accuracy                           0.77        91\n",
      "   macro avg       0.76      0.76      0.76        91\n",
      "weighted avg       0.77      0.77      0.77        91\n",
      "\n",
      "[[28 10]\n",
      " [11 42]]\n"
     ]
    }
   ],
   "source": [
    "#Create object for SVC class Radial\n",
    "svc3=SVC(random_state=1,kernel='rbf')\n",
    "svc3=create_model(svc3)"
   ]
  },
  {
   "cell_type": "markdown",
   "id": "f85afa7b",
   "metadata": {},
   "source": [
    "# Conclusion"
   ]
  },
  {
   "cell_type": "code",
   "execution_count": 56,
   "id": "be2a17ee",
   "metadata": {},
   "outputs": [
    {
     "data": {
      "text/plain": [
       "'\\nHere From from above Checking on various Machine Learning Methods We Found That Polynomial Support Vector is best For this \\nDataset So by Using Polynomial Support Vector codes we will deploy to the model.\\n'"
      ]
     },
     "execution_count": 56,
     "metadata": {},
     "output_type": "execute_result"
    }
   ],
   "source": [
    "'''\n",
    "Here From from above Checking on various Machine Learning Methods We Found That Polynomial Support Vector is best For this \n",
    "Dataset So by Using Polynomial Support Vector codes we will deploy to the model.\n",
    "'''"
   ]
  },
  {
   "cell_type": "code",
   "execution_count": 57,
   "id": "6affce25",
   "metadata": {},
   "outputs": [],
   "source": [
    "#Install Streamlit for model Deployment\n",
    "#!pip install streamlit"
   ]
  },
  {
   "cell_type": "code",
   "execution_count": 58,
   "id": "c85cc048",
   "metadata": {},
   "outputs": [],
   "source": [
    "#Use file handling :- Serialization(python) convert data into binary \n",
    "#for programmer we use deserialisation it converts binary data to normal readlable data\n",
    "#for this we use inbuilt package : Pickle of python  conversion of normal data to binary data\n",
    "import pickle"
   ]
  },
  {
   "cell_type": "code",
   "execution_count": 59,
   "id": "44842220",
   "metadata": {},
   "outputs": [],
   "source": [
    "#To open temporary file in write binary : wb\n",
    "file1=open('model.pkl','wb')  #file1=Temporary file ,model.pkl is permanent file ,wb=is write in file \n",
    "#if not mentioned then by default it is in read format and also it is used for Decisiontreeclassifier object\n",
    "file2=open('scale.pkl','wb') #it used to save the object of StandardScaler class"
   ]
  },
  {
   "cell_type": "code",
   "execution_count": 60,
   "id": "30958ff3",
   "metadata": {},
   "outputs": [],
   "source": [
    "#dump() inbuilt method of pickle library \n",
    "pickle.dump(svc2,file1) #save object of DecisiontreeClassifier in file1\n",
    "pickle.dump(ss,file2) # save object of StandardSclaer in file2"
   ]
  },
  {
   "cell_type": "code",
   "execution_count": 64,
   "id": "71108b11",
   "metadata": {},
   "outputs": [],
   "source": [
    "#Close file1 and file2 they are temporary files if not closed then file1 and file2 \n",
    "#would be empty and data would not be shifted to model.pkl and scale.pkl\n",
    "file1.close()\n",
    "file2.close()"
   ]
  },
  {
   "cell_type": "code",
   "execution_count": 65,
   "id": "0a26b60f",
   "metadata": {},
   "outputs": [],
   "source": [
    "#open file in read binary  mode means rb\n",
    "#use load() for read which  define in pickle and data hold on temperary file\n",
    "file1=open('model.pkl','rb') #'rb' read mode and 'wb' write mode\n",
    "file2=open('scale.pkl','rb') #'rb' read mode and 'wb' write mode"
   ]
  },
  {
   "cell_type": "code",
   "execution_count": 66,
   "id": "a5b0ebda",
   "metadata": {},
   "outputs": [],
   "source": [
    "#To read data from temp file and hold in object\n",
    "model=pickle.load(file1)  #to read data from file1 and hold object of model (user defined)\n",
    "scale=pickle.load(file2)"
   ]
  }
 ],
 "metadata": {
  "kernelspec": {
   "display_name": "Python 3 (ipykernel)",
   "language": "python",
   "name": "python3"
  },
  "language_info": {
   "codemirror_mode": {
    "name": "ipython",
    "version": 3
   },
   "file_extension": ".py",
   "mimetype": "text/x-python",
   "name": "python",
   "nbconvert_exporter": "python",
   "pygments_lexer": "ipython3",
   "version": "3.9.12"
  }
 },
 "nbformat": 4,
 "nbformat_minor": 5
}
